{
 "cells": [
  {
   "cell_type": "markdown",
   "metadata": {},
   "source": [
    "# How to use map-based sims and generate noise on-the-fly\n",
    "> A. Zonca, M. Madhavacheril\n",
    "\n",
    "As you join, start to setup your environment:\n",
    "\n",
    "* Login to <jupyter.nersc.gov>\n",
    "* Open a terminal in Jupyter and clone the tutorial repository in your home folder:\n",
    "\n",
    "        cd ~\n",
    "        git clone https://github.com/simonsobs/mapsims_tutorials\n",
    "        cd mapsims_tutorials\n",
    "        \n",
    "* Install the Jupyter Kernel running `bash install_mbs_kernel_nersc.sh`\n",
    "* Open and execute the `0_test_setup.ipynb` notebook"
   ]
  },
  {
   "cell_type": "markdown",
   "metadata": {},
   "source": [
    "## It's `#BlackInAstro` week\n",
    "\n",
    "* **After the tutorial** check articles about Black Astrophysicists posted daily at <https://astrobites.org/>\n",
    "* Check [#BlackInAstro on Twitter](https://twitter.com/search?q=%23BlackInAstro)"
   ]
  }
 ],
 "metadata": {
  "kernelspec": {
   "display_name": "Simons Obs MBS",
   "language": "python",
   "name": "sobs-mbs"
  },
  "language_info": {
   "codemirror_mode": {
    "name": "ipython",
    "version": 3
   },
   "file_extension": ".py",
   "mimetype": "text/x-python",
   "name": "python",
   "nbconvert_exporter": "python",
   "pygments_lexer": "ipython3",
   "version": "3.7.6"
  }
 },
 "nbformat": 4,
 "nbformat_minor": 4
}
